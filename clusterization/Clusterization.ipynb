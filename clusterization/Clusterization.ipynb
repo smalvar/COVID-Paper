{
 "cells": [
  {
   "cell_type": "markdown",
   "metadata": {},
   "source": [
    "## 1. Introduction"
   ]
  },
  {
   "cell_type": "markdown",
   "metadata": {},
   "source": [
    "In this part of the project, we will clusterize data obtained from the previous notebook. The `set_option` is defined to show all columns and all the importations are made before the start."
   ]
  },
  {
   "cell_type": "code",
   "execution_count": 1,
   "metadata": {},
   "outputs": [],
   "source": [
    "import pandas as pd\n",
    "import numpy as np\n",
    "pd.set_option('display.max_columns', None)\n",
    "pd.set_option('max_columns', None)\n",
    "from sklearn.cluster import KMeans\n",
    "from sklearn.preprocessing import StandardScaler\n",
    "from sklearn.preprocessing import PowerTransformer\n",
    "from sklearn.preprocessing import Normalizer\n",
    "from sklearn import preprocessing"
   ]
  },
  {
   "cell_type": "code",
   "execution_count": 2,
   "metadata": {},
   "outputs": [
    {
     "data": {
      "text/plain": [
       "Index(['Abastecimento de Água - Nível de Atendimento - Censo Demográfico (Em %)',\n",
       "       'Coleta de Lixo - Nível de Atendimento - Censo Demográfico (Em %)',\n",
       "       'Esgoto Sanitário - Nível de Atendimento - Censo Demográfico (Em %)',\n",
       "       'Consumo de Energia Elétrica - Total (Em MWh)',\n",
       "       'Consumo de Energia Elétrica - Industrial (Em MWh)',\n",
       "       'Consumo de Energia Elétrica -  Comércio e Serviços (Em MWh)',\n",
       "       'Consumo de Energia Elétrica - Rural (Em MWh)',\n",
       "       'Consumo de Energia Elétrica - Residencial (Em MWh)',\n",
       "       'Consumo de Energia Elétrica - Iluminação e Serviços Públicos e Outros (Em MWh)',\n",
       "       'Taxa Geométrica de Crescimento Anual da População - 2010/2020 (Em % a.a.)',\n",
       "       'Empregos Formais de Homens ', 'Empregos Formais de Mulheres ',\n",
       "       'Empregos Formais das Pessoas de até 24 Anos ',\n",
       "       'Empregos Formais das Pessoas de 25 a 39 Anos ',\n",
       "       'Empregos Formais das Pessoas de 40 a 59 Anos ',\n",
       "       'Empregos Formais das Pessoas de 60 Anos e Mais ',\n",
       "       'Empregos Formais das Pessoas com Ensino Fundamental Incompleto ',\n",
       "       'Empregos Formais das Pessoas com Ensino Fundamental Completo ',\n",
       "       'Empregos Formais das Pessoas com Ensino Médio Completo ',\n",
       "       'Empregos Formais das Pessoas com Ensino Superior Completo ',\n",
       "       'Empregos Formais da Agricultura. Pecuária. Produção Florestal. Pesca e Aquicultura ',\n",
       "       'Empregos Formais da Indústria ', 'Empregos Formais da Construção ',\n",
       "       'Empregos Formais do Comércio Atacadista e Varejista e do Comércio e Reparação de Veículos Automotores e Motocicletas ',\n",
       "       'Empregos Formais dos Serviços ',\n",
       "       'Participação dos Empregos Formais da Agricultura. Pecuária. Produção Florestal. Pesca e Aquicultura no Total de Empregos Formais (Em %)',\n",
       "       'Participação dos Empregos Formais da Indústria no Total de Empregos Formais (Em %)',\n",
       "       'Participação dos Empregos Formais da Construção no Total de Empregos Formais (Em %)',\n",
       "       'Participação dos Empregos Formais do Comércio Atacadista e Varejista e do Comércio e Reparação de Veículos Automotores e Motocicletas no Total de Empregos Formais (Em %)',\n",
       "       'Participação dos Empregos Formais dos Serviços no Total de Empregos Formais (Em %)',\n",
       "       'Frota de Veículos - Total ',\n",
       "       'Número de Habitantes por Total de Veículos ', 'Frota de Automóveis ',\n",
       "       'Número de Habitantes por Automóvel ', 'Frota de Ônibus ',\n",
       "       'Frota de Caminhões ', 'Frota de Reboques ',\n",
       "       'Frota de Motocicletas e Assemelhados ',\n",
       "       'Frota de Microônibus e Camionetas ',\n",
       "       'Frota de Veículos de Outro Tipo ',\n",
       "       'Índice de Desenvolvimento Humano Municipal - IDHM ',\n",
       "       'Índice de Desenvolvimento Humano Municipal - IDHM - Ranking dos Municípios ',\n",
       "       'Índice de Desenvolvimento Humano Municipal - IDHM Longevidade ',\n",
       "       'Índice de Desenvolvimento Humano Municipal - IDHM Educação ',\n",
       "       'Índice de Desenvolvimento Humano Municipal - IDHM Renda ',\n",
       "       'Índice Paulista de Responsabilidade Social - IPRS - Dimensão Riqueza ',\n",
       "       'Índice Paulista de Responsabilidade Social - IPRS - Dimensão Longevidade ',\n",
       "       'Índice Paulista de Responsabilidade Social - IPRS - Dimensão Escolaridade ',\n",
       "       'Leitos de Internação ',\n",
       "       'Leitos de Internação (Coeficiente por mil habitantes)', 'Leitos SUS ',\n",
       "       'Leitos SUS (Coeficiente por mil habitantes)',\n",
       "       'Taxa de Natalidade (Por mil habitantes)',\n",
       "       'Taxa de Fecundidade Geral (Por mil mulheres entre 15 e 49 anos)',\n",
       "       'Índice de Envelhecimento (Em %)',\n",
       "       'Óbitos Gerais (por local de residência) ',\n",
       "       'Taxa de Mortalidade Geral (por local de residência) (Por mil habitantes)',\n",
       "       'Óbitos da População de 15 a 34 Anos ',\n",
       "       'Taxa de Mortalidade da População de 15 a 34 Anos (Por cem mil habitantes nessa faixa etária)',\n",
       "       'Óbitos da População de 60 Anos e Mais ',\n",
       "       'Taxa de Mortalidade da População de 60 Anos e Mais (Por cem mil habitantes nessa faixa etária)',\n",
       "       'PIB (Em mil reais correntes)', 'PIB per Capita (Em reais correntes)',\n",
       "       'Participação no PIB do Estado (Em %)', 'População ',\n",
       "       'População Masculina ', 'População Feminina ', 'Razão de Sexos ',\n",
       "       'População Urbana ', 'População Rural ', 'Grau de Urbanização (Em %)',\n",
       "       'População de 0 a 3 Anos ', 'População de 4 a 6 Anos ',\n",
       "       'População de 6 Anos ', 'População de 7 a 10 Anos ',\n",
       "       'População de 11 a 14 Anos ', 'População de 15 a 17 Anos ',\n",
       "       'População de 18 a 19 Anos ',\n",
       "       'Auxiliares de Enfermagem Registrados no COREN/SP ',\n",
       "       'Auxiliares de Enfermagem Registrados no COREN/SP (Coeficiente por mil habitantes)',\n",
       "       'Dentistas Registrados no CRO/SP ',\n",
       "       'Dentistas Registrados no CRO/SP (Coeficiente por dois mil habitantes)',\n",
       "       'Enfermeiros Registrados no COREN/SP ',\n",
       "       'Enfermeiros Registrados no COREN/SP (Coeficiente por mil habitantes)',\n",
       "       'Fonoaudiólogos registrados no CRFa/SP ',\n",
       "       'Fonoaudiólogos registrados no CRFa/SP (Coeficiente por mil habitantes)',\n",
       "       'Médicos Registrados no CRM/SP ',\n",
       "       'Médicos Registrados no CRM/SP (Coeficiente por mil habitantes)',\n",
       "       'Técnicos de Enfermagem Registrados no COREN/SP ',\n",
       "       'Técnicos de Enfermagem Registrados no COREN/SP (Coeficiente por mil habitantes)',\n",
       "       'Técnicos de Prótese Dentária Registrados no CRO/SP ',\n",
       "       'Técnicos de Prótese Dentária Registrados no CRO/SP (Coeficiente por dois mil habitantes)',\n",
       "       'Renda per Capita - Censo Demográfico (Em reais correntes)',\n",
       "       'Domicílios Particulares com Renda per Capita até 1/2 Salário Mínimo - Censo Demográfico (Em %)',\n",
       "       'Domicílios Particulares com Renda per Capita até 1/4 do Salário Mínimo - Censo Demográfico (Em %)',\n",
       "       'Area', 'densidade'],\n",
       "      dtype='object')"
      ]
     },
     "execution_count": 2,
     "metadata": {},
     "output_type": "execute_result"
    }
   ],
   "source": [
    "df = pd.read_csv('para_cluster.csv')\n",
    "df = df.drop(['Unnamed: 0'],axis=1)\n",
    "df.columns"
   ]
  },
  {
   "cell_type": "code",
   "execution_count": 3,
   "metadata": {},
   "outputs": [
    {
     "data": {
      "text/plain": [
       "(622, 97)"
      ]
     },
     "execution_count": 3,
     "metadata": {},
     "output_type": "execute_result"
    }
   ],
   "source": [
    "df.shape"
   ]
  },
  {
   "cell_type": "markdown",
   "metadata": {},
   "source": [
    "To avoid collinearity, variables with correlation higher than 0.9 will be dropped. In statistics, multicollinearity (also collinearity) is a phenomenon in which one predictor variable in a multiple regression model can be linearly predicted from the others with a substantial degree of accuracy. In this situation, the coefficient estimates of the multiple regression may change erratically in response to small changes in the model or the data."
   ]
  },
  {
   "cell_type": "code",
   "execution_count": 307,
   "metadata": {},
   "outputs": [],
   "source": [
    "corr_matrix = df.corr().abs()\n",
    "upper = corr_matrix.where(np.triu(np.ones(corr_matrix.shape), k=1).astype(np.bool))\n",
    "to_drop = [column for column in upper.columns if any(upper[column] >0.90)]\n",
    "#to_drop"
   ]
  },
  {
   "cell_type": "code",
   "execution_count": 308,
   "metadata": {},
   "outputs": [
    {
     "data": {
      "text/plain": [
       "(622, 30)"
      ]
     },
     "execution_count": 308,
     "metadata": {},
     "output_type": "execute_result"
    }
   ],
   "source": [
    "df = df.drop(['Consumo de Energia Elétrica -  Comércio e Serviços (Em MWh)',\n",
    " 'Consumo de Energia Elétrica - Residencial (Em MWh)',\n",
    " 'Consumo de Energia Elétrica - Iluminação e Serviços Públicos e Outros (Em MWh)',\n",
    " 'Empregos Formais de Homens ',\n",
    " 'Empregos Formais de Mulheres ',\n",
    " 'Empregos Formais das Pessoas de até 24 Anos ',\n",
    " 'Empregos Formais das Pessoas de 25 a 39 Anos ',\n",
    " 'Empregos Formais das Pessoas de 40 a 59 Anos ',\n",
    " 'Empregos Formais das Pessoas de 60 Anos e Mais ',\n",
    " 'Empregos Formais das Pessoas com Ensino Fundamental Incompleto ',\n",
    " 'Empregos Formais das Pessoas com Ensino Fundamental Completo ',\n",
    " 'Empregos Formais das Pessoas com Ensino Médio Completo ',\n",
    " 'Empregos Formais das Pessoas com Ensino Superior Completo ',\n",
    " 'Empregos Formais da Indústria ',\n",
    " 'Empregos Formais da Construção ',\n",
    " 'Empregos Formais do Comércio Atacadista e Varejista e do Comércio e Reparação de Veículos Automotores e Motocicletas ',\n",
    " 'Empregos Formais dos Serviços ',\n",
    " 'Participação dos Empregos Formais dos Serviços no Total de Empregos Formais (Em %)',\n",
    " 'Frota de Veículos - Total ',\n",
    " 'Frota de Automóveis ',\n",
    " 'Frota de Ônibus ',\n",
    " 'Frota de Caminhões ',\n",
    " 'Frota de Reboques ',\n",
    " 'Frota de Motocicletas e Assemelhados ',\n",
    " 'Frota de Microônibus e Camionetas ',\n",
    " 'Frota de Veículos de Outro Tipo ',\n",
    " 'Índice de Desenvolvimento Humano Municipal - IDHM - Ranking dos Municípios ',\n",
    " 'Índice de Desenvolvimento Humano Municipal - IDHM Educação ',\n",
    " 'Índice de Desenvolvimento Humano Municipal - IDHM Renda ',\n",
    " 'Leitos de Internação ',\n",
    " 'Leitos SUS ',\n",
    " 'Leitos SUS (Coeficiente por mil habitantes)',\n",
    " 'Taxa de Fecundidade Geral (Por mil mulheres entre 15 e 49 anos)',\n",
    " 'Óbitos Gerais (por local de residência) ',\n",
    " 'Óbitos da População de 15 a 34 Anos ',\n",
    " 'Óbitos da População de 60 Anos e Mais ',\n",
    " 'PIB (Em mil reais correntes)',\n",
    " 'População ',\n",
    " 'População Masculina ',\n",
    " 'População Feminina ',\n",
    " 'População de 0 a 3 Anos ',\n",
    " 'População de 4 a 6 Anos ',\n",
    " 'População de 6 Anos ',\n",
    " 'População de 7 a 10 Anos ',\n",
    " 'População de 11 a 14 Anos ',\n",
    " 'População de 15 a 17 Anos ',\n",
    " 'População de 18 a 19 Anos ',\n",
    " 'Auxiliares de Enfermagem Registrados no COREN/SP ',\n",
    " 'Dentistas Registrados no CRO/SP ',\n",
    " 'Enfermeiros Registrados no COREN/SP ',\n",
    " 'Fonoaudiólogos registrados no CRFa/SP ',\n",
    " 'Médicos Registrados no CRM/SP ','Empregos Formais da Agricultura. Pecuária. Produção Florestal. Pesca e Aquicultura ',\n",
    "             'Índice de Desenvolvimento Humano Municipal - IDHM Longevidade ',\n",
    "       'Índice Paulista de Responsabilidade Social - IPRS - Dimensão Riqueza ',\n",
    "       'Índice Paulista de Responsabilidade Social - IPRS - Dimensão Longevidade ',\n",
    "       'Índice Paulista de Responsabilidade Social - IPRS - Dimensão Escolaridade ',\n",
    "             'Taxa Geométrica de Crescimento Anual da População - 2010/2020 (Em % a.a.)',\n",
    "             'Dentistas Registrados no CRO/SP (Coeficiente por dois mil habitantes)',\n",
    "             'Técnicos de Prótese Dentária Registrados no CRO/SP (Coeficiente por dois mil habitantes)',\n",
    "             'Fonoaudiólogos registrados no CRFa/SP (Coeficiente por mil habitantes)','Area',\n",
    "              'Técnicos de Enfermagem Registrados no COREN/SP ',\n",
    " 'Técnicos de Prótese Dentária Registrados no CRO/SP ',\n",
    " 'Domicílios Particulares com Renda per Capita até 1/2 Salário Mínimo - Censo Demográfico (Em %)',\n",
    " 'Domicílios Particulares com Renda per Capita até 1/4 do Salário Mínimo - Censo Demográfico (Em %)',\n",
    "             'Consumo de Energia Elétrica - Total (Em MWh)'],axis=1)\n",
    "df.shape"
   ]
  },
  {
   "cell_type": "code",
   "execution_count": 309,
   "metadata": {},
   "outputs": [
    {
     "data": {
      "text/html": [
       "<div>\n",
       "<style scoped>\n",
       "    .dataframe tbody tr th:only-of-type {\n",
       "        vertical-align: middle;\n",
       "    }\n",
       "\n",
       "    .dataframe tbody tr th {\n",
       "        vertical-align: top;\n",
       "    }\n",
       "\n",
       "    .dataframe thead th {\n",
       "        text-align: right;\n",
       "    }\n",
       "</style>\n",
       "<table border=\"1\" class=\"dataframe\">\n",
       "  <thead>\n",
       "    <tr style=\"text-align: right;\">\n",
       "      <th></th>\n",
       "      <th>Abastecimento de Água - Nível de Atendimento - Censo Demográfico (Em %)</th>\n",
       "      <th>Coleta de Lixo - Nível de Atendimento - Censo Demográfico (Em %)</th>\n",
       "      <th>Esgoto Sanitário - Nível de Atendimento - Censo Demográfico (Em %)</th>\n",
       "      <th>Consumo de Energia Elétrica - Industrial (Em MWh)</th>\n",
       "      <th>Consumo de Energia Elétrica - Rural (Em MWh)</th>\n",
       "      <th>Participação dos Empregos Formais da Agricultura. Pecuária. Produção Florestal. Pesca e Aquicultura no Total de Empregos Formais (Em %)</th>\n",
       "      <th>Participação dos Empregos Formais da Indústria no Total de Empregos Formais (Em %)</th>\n",
       "      <th>Participação dos Empregos Formais da Construção no Total de Empregos Formais (Em %)</th>\n",
       "      <th>Participação dos Empregos Formais do Comércio Atacadista e Varejista e do Comércio e Reparação de Veículos Automotores e Motocicletas no Total de Empregos Formais (Em %)</th>\n",
       "      <th>Número de Habitantes por Total de Veículos</th>\n",
       "      <th>Número de Habitantes por Automóvel</th>\n",
       "      <th>Índice de Desenvolvimento Humano Municipal - IDHM</th>\n",
       "      <th>Leitos de Internação (Coeficiente por mil habitantes)</th>\n",
       "      <th>Taxa de Natalidade (Por mil habitantes)</th>\n",
       "      <th>Índice de Envelhecimento (Em %)</th>\n",
       "      <th>Taxa de Mortalidade Geral (por local de residência) (Por mil habitantes)</th>\n",
       "      <th>Taxa de Mortalidade da População de 15 a 34 Anos (Por cem mil habitantes nessa faixa etária)</th>\n",
       "      <th>Taxa de Mortalidade da População de 60 Anos e Mais (Por cem mil habitantes nessa faixa etária)</th>\n",
       "      <th>PIB per Capita (Em reais correntes)</th>\n",
       "      <th>Participação no PIB do Estado (Em %)</th>\n",
       "      <th>Razão de Sexos</th>\n",
       "      <th>População Urbana</th>\n",
       "      <th>População Rural</th>\n",
       "      <th>Grau de Urbanização (Em %)</th>\n",
       "      <th>Auxiliares de Enfermagem Registrados no COREN/SP (Coeficiente por mil habitantes)</th>\n",
       "      <th>Enfermeiros Registrados no COREN/SP (Coeficiente por mil habitantes)</th>\n",
       "      <th>Médicos Registrados no CRM/SP (Coeficiente por mil habitantes)</th>\n",
       "      <th>Técnicos de Enfermagem Registrados no COREN/SP (Coeficiente por mil habitantes)</th>\n",
       "      <th>Renda per Capita - Censo Demográfico (Em reais correntes)</th>\n",
       "      <th>densidade</th>\n",
       "    </tr>\n",
       "  </thead>\n",
       "  <tbody>\n",
       "    <tr>\n",
       "      <th>0</th>\n",
       "      <td>99.76</td>\n",
       "      <td>99.89</td>\n",
       "      <td>99.03</td>\n",
       "      <td>8108</td>\n",
       "      <td>2901</td>\n",
       "      <td>6.63</td>\n",
       "      <td>17.78</td>\n",
       "      <td>3.47</td>\n",
       "      <td>27.69</td>\n",
       "      <td>1.26</td>\n",
       "      <td>2.28</td>\n",
       "      <td>0.790</td>\n",
       "      <td>6.93</td>\n",
       "      <td>11.21</td>\n",
       "      <td>133.52</td>\n",
       "      <td>8.88</td>\n",
       "      <td>83.27</td>\n",
       "      <td>3594.17</td>\n",
       "      <td>31121.18</td>\n",
       "      <td>0.049746</td>\n",
       "      <td>92.93</td>\n",
       "      <td>32668</td>\n",
       "      <td>1226</td>\n",
       "      <td>96.38</td>\n",
       "      <td>4.96</td>\n",
       "      <td>4.72</td>\n",
       "      <td>2.77</td>\n",
       "      <td>1.83</td>\n",
       "      <td>778.44</td>\n",
       "      <td>82.269586</td>\n",
       "    </tr>\n",
       "    <tr>\n",
       "      <th>1</th>\n",
       "      <td>96.76</td>\n",
       "      <td>99.72</td>\n",
       "      <td>95.93</td>\n",
       "      <td>74</td>\n",
       "      <td>6470</td>\n",
       "      <td>37.24</td>\n",
       "      <td>5.04</td>\n",
       "      <td>2.46</td>\n",
       "      <td>7.73</td>\n",
       "      <td>1.44</td>\n",
       "      <td>2.50</td>\n",
       "      <td>0.730</td>\n",
       "      <td>0.00</td>\n",
       "      <td>13.26</td>\n",
       "      <td>129.09</td>\n",
       "      <td>9.22</td>\n",
       "      <td>200.40</td>\n",
       "      <td>4084.51</td>\n",
       "      <td>28667.61</td>\n",
       "      <td>0.004705</td>\n",
       "      <td>98.10</td>\n",
       "      <td>3189</td>\n",
       "      <td>258</td>\n",
       "      <td>92.52</td>\n",
       "      <td>3.47</td>\n",
       "      <td>2.02</td>\n",
       "      <td>0.00</td>\n",
       "      <td>8.10</td>\n",
       "      <td>588.02</td>\n",
       "      <td>16.332236</td>\n",
       "    </tr>\n",
       "    <tr>\n",
       "      <th>2</th>\n",
       "      <td>99.29</td>\n",
       "      <td>99.66</td>\n",
       "      <td>98.87</td>\n",
       "      <td>33297</td>\n",
       "      <td>14278</td>\n",
       "      <td>19.23</td>\n",
       "      <td>32.33</td>\n",
       "      <td>1.76</td>\n",
       "      <td>19.54</td>\n",
       "      <td>1.65</td>\n",
       "      <td>3.14</td>\n",
       "      <td>0.715</td>\n",
       "      <td>0.00</td>\n",
       "      <td>13.06</td>\n",
       "      <td>69.33</td>\n",
       "      <td>7.16</td>\n",
       "      <td>112.23</td>\n",
       "      <td>4072.03</td>\n",
       "      <td>27263.25</td>\n",
       "      <td>0.044470</td>\n",
       "      <td>100.96</td>\n",
       "      <td>32833</td>\n",
       "      <td>2775</td>\n",
       "      <td>92.21</td>\n",
       "      <td>1.13</td>\n",
       "      <td>1.25</td>\n",
       "      <td>0.88</td>\n",
       "      <td>3.66</td>\n",
       "      <td>540.88</td>\n",
       "      <td>75.034664</td>\n",
       "    </tr>\n",
       "    <tr>\n",
       "      <th>3</th>\n",
       "      <td>95.84</td>\n",
       "      <td>99.38</td>\n",
       "      <td>87.99</td>\n",
       "      <td>1929</td>\n",
       "      <td>1717</td>\n",
       "      <td>20.96</td>\n",
       "      <td>17.19</td>\n",
       "      <td>3.05</td>\n",
       "      <td>16.68</td>\n",
       "      <td>1.66</td>\n",
       "      <td>2.75</td>\n",
       "      <td>0.781</td>\n",
       "      <td>0.00</td>\n",
       "      <td>11.73</td>\n",
       "      <td>137.45</td>\n",
       "      <td>11.21</td>\n",
       "      <td>0.00</td>\n",
       "      <td>4004.85</td>\n",
       "      <td>19869.91</td>\n",
       "      <td>0.007254</td>\n",
       "      <td>96.55</td>\n",
       "      <td>7188</td>\n",
       "      <td>609</td>\n",
       "      <td>92.19</td>\n",
       "      <td>3.21</td>\n",
       "      <td>1.29</td>\n",
       "      <td>0.90</td>\n",
       "      <td>3.73</td>\n",
       "      <td>726.28</td>\n",
       "      <td>54.649443</td>\n",
       "    </tr>\n",
       "    <tr>\n",
       "      <th>4</th>\n",
       "      <td>93.54</td>\n",
       "      <td>98.74</td>\n",
       "      <td>90.33</td>\n",
       "      <td>4399</td>\n",
       "      <td>1505</td>\n",
       "      <td>1.19</td>\n",
       "      <td>17.39</td>\n",
       "      <td>0.76</td>\n",
       "      <td>17.92</td>\n",
       "      <td>1.38</td>\n",
       "      <td>2.41</td>\n",
       "      <td>0.745</td>\n",
       "      <td>2.30</td>\n",
       "      <td>10.57</td>\n",
       "      <td>90.63</td>\n",
       "      <td>9.69</td>\n",
       "      <td>113.19</td>\n",
       "      <td>4449.42</td>\n",
       "      <td>26192.48</td>\n",
       "      <td>0.022312</td>\n",
       "      <td>94.85</td>\n",
       "      <td>18209</td>\n",
       "      <td>165</td>\n",
       "      <td>99.10</td>\n",
       "      <td>0.77</td>\n",
       "      <td>1.53</td>\n",
       "      <td>1.86</td>\n",
       "      <td>3.56</td>\n",
       "      <td>680.22</td>\n",
       "      <td>305.591591</td>\n",
       "    </tr>\n",
       "  </tbody>\n",
       "</table>\n",
       "</div>"
      ],
      "text/plain": [
       "   Abastecimento de Água - Nível de Atendimento - Censo Demográfico (Em %)  \\\n",
       "0                                              99.76                         \n",
       "1                                              96.76                         \n",
       "2                                              99.29                         \n",
       "3                                              95.84                         \n",
       "4                                              93.54                         \n",
       "\n",
       "   Coleta de Lixo - Nível de Atendimento - Censo Demográfico (Em %)  \\\n",
       "0                                              99.89                  \n",
       "1                                              99.72                  \n",
       "2                                              99.66                  \n",
       "3                                              99.38                  \n",
       "4                                              98.74                  \n",
       "\n",
       "   Esgoto Sanitário - Nível de Atendimento - Censo Demográfico (Em %)  \\\n",
       "0                                              99.03                    \n",
       "1                                              95.93                    \n",
       "2                                              98.87                    \n",
       "3                                              87.99                    \n",
       "4                                              90.33                    \n",
       "\n",
       "   Consumo de Energia Elétrica - Industrial (Em MWh)  \\\n",
       "0                                               8108   \n",
       "1                                                 74   \n",
       "2                                              33297   \n",
       "3                                               1929   \n",
       "4                                               4399   \n",
       "\n",
       "   Consumo de Energia Elétrica - Rural (Em MWh)  \\\n",
       "0                                          2901   \n",
       "1                                          6470   \n",
       "2                                         14278   \n",
       "3                                          1717   \n",
       "4                                          1505   \n",
       "\n",
       "   Participação dos Empregos Formais da Agricultura. Pecuária. Produção Florestal. Pesca e Aquicultura no Total de Empregos Formais (Em %)  \\\n",
       "0                                               6.63                                                                                         \n",
       "1                                              37.24                                                                                         \n",
       "2                                              19.23                                                                                         \n",
       "3                                              20.96                                                                                         \n",
       "4                                               1.19                                                                                         \n",
       "\n",
       "   Participação dos Empregos Formais da Indústria no Total de Empregos Formais (Em %)  \\\n",
       "0                                              17.78                                    \n",
       "1                                               5.04                                    \n",
       "2                                              32.33                                    \n",
       "3                                              17.19                                    \n",
       "4                                              17.39                                    \n",
       "\n",
       "   Participação dos Empregos Formais da Construção no Total de Empregos Formais (Em %)  \\\n",
       "0                                               3.47                                     \n",
       "1                                               2.46                                     \n",
       "2                                               1.76                                     \n",
       "3                                               3.05                                     \n",
       "4                                               0.76                                     \n",
       "\n",
       "   Participação dos Empregos Formais do Comércio Atacadista e Varejista e do Comércio e Reparação de Veículos Automotores e Motocicletas no Total de Empregos Formais (Em %)  \\\n",
       "0                                              27.69                                                                                                                           \n",
       "1                                               7.73                                                                                                                           \n",
       "2                                              19.54                                                                                                                           \n",
       "3                                              16.68                                                                                                                           \n",
       "4                                              17.92                                                                                                                           \n",
       "\n",
       "   Número de Habitantes por Total de Veículos   \\\n",
       "0                                         1.26   \n",
       "1                                         1.44   \n",
       "2                                         1.65   \n",
       "3                                         1.66   \n",
       "4                                         1.38   \n",
       "\n",
       "   Número de Habitantes por Automóvel   \\\n",
       "0                                 2.28   \n",
       "1                                 2.50   \n",
       "2                                 3.14   \n",
       "3                                 2.75   \n",
       "4                                 2.41   \n",
       "\n",
       "   Índice de Desenvolvimento Humano Municipal - IDHM   \\\n",
       "0                                              0.790    \n",
       "1                                              0.730    \n",
       "2                                              0.715    \n",
       "3                                              0.781    \n",
       "4                                              0.745    \n",
       "\n",
       "   Leitos de Internação (Coeficiente por mil habitantes)  \\\n",
       "0                                               6.93       \n",
       "1                                               0.00       \n",
       "2                                               0.00       \n",
       "3                                               0.00       \n",
       "4                                               2.30       \n",
       "\n",
       "   Taxa de Natalidade (Por mil habitantes)  Índice de Envelhecimento (Em %)  \\\n",
       "0                                    11.21                           133.52   \n",
       "1                                    13.26                           129.09   \n",
       "2                                    13.06                            69.33   \n",
       "3                                    11.73                           137.45   \n",
       "4                                    10.57                            90.63   \n",
       "\n",
       "   Taxa de Mortalidade Geral (por local de residência) (Por mil habitantes)  \\\n",
       "0                                               8.88                          \n",
       "1                                               9.22                          \n",
       "2                                               7.16                          \n",
       "3                                              11.21                          \n",
       "4                                               9.69                          \n",
       "\n",
       "   Taxa de Mortalidade da População de 15 a 34 Anos (Por cem mil habitantes nessa faixa etária)  \\\n",
       "0                                              83.27                                              \n",
       "1                                             200.40                                              \n",
       "2                                             112.23                                              \n",
       "3                                               0.00                                              \n",
       "4                                             113.19                                              \n",
       "\n",
       "   Taxa de Mortalidade da População de 60 Anos e Mais (Por cem mil habitantes nessa faixa etária)  \\\n",
       "0                                            3594.17                                                \n",
       "1                                            4084.51                                                \n",
       "2                                            4072.03                                                \n",
       "3                                            4004.85                                                \n",
       "4                                            4449.42                                                \n",
       "\n",
       "   PIB per Capita (Em reais correntes)  Participação no PIB do Estado (Em %)  \\\n",
       "0                             31121.18                              0.049746   \n",
       "1                             28667.61                              0.004705   \n",
       "2                             27263.25                              0.044470   \n",
       "3                             19869.91                              0.007254   \n",
       "4                             26192.48                              0.022312   \n",
       "\n",
       "   Razão de Sexos   População Urbana   População Rural   \\\n",
       "0            92.93              32668              1226   \n",
       "1            98.10               3189               258   \n",
       "2           100.96              32833              2775   \n",
       "3            96.55               7188               609   \n",
       "4            94.85              18209               165   \n",
       "\n",
       "   Grau de Urbanização (Em %)  \\\n",
       "0                       96.38   \n",
       "1                       92.52   \n",
       "2                       92.21   \n",
       "3                       92.19   \n",
       "4                       99.10   \n",
       "\n",
       "   Auxiliares de Enfermagem Registrados no COREN/SP (Coeficiente por mil habitantes)  \\\n",
       "0                                               4.96                                   \n",
       "1                                               3.47                                   \n",
       "2                                               1.13                                   \n",
       "3                                               3.21                                   \n",
       "4                                               0.77                                   \n",
       "\n",
       "   Enfermeiros Registrados no COREN/SP (Coeficiente por mil habitantes)  \\\n",
       "0                                               4.72                      \n",
       "1                                               2.02                      \n",
       "2                                               1.25                      \n",
       "3                                               1.29                      \n",
       "4                                               1.53                      \n",
       "\n",
       "   Médicos Registrados no CRM/SP (Coeficiente por mil habitantes)  \\\n",
       "0                                               2.77                \n",
       "1                                               0.00                \n",
       "2                                               0.88                \n",
       "3                                               0.90                \n",
       "4                                               1.86                \n",
       "\n",
       "   Técnicos de Enfermagem Registrados no COREN/SP (Coeficiente por mil habitantes)  \\\n",
       "0                                               1.83                                 \n",
       "1                                               8.10                                 \n",
       "2                                               3.66                                 \n",
       "3                                               3.73                                 \n",
       "4                                               3.56                                 \n",
       "\n",
       "   Renda per Capita - Censo Demográfico (Em reais correntes)   densidade  \n",
       "0                                             778.44           82.269586  \n",
       "1                                             588.02           16.332236  \n",
       "2                                             540.88           75.034664  \n",
       "3                                             726.28           54.649443  \n",
       "4                                             680.22          305.591591  "
      ]
     },
     "execution_count": 309,
     "metadata": {},
     "output_type": "execute_result"
    }
   ],
   "source": [
    "df.head()"
   ]
  },
  {
   "cell_type": "markdown",
   "metadata": {},
   "source": [
    "New data from `municipio.csv` and `covid.csv` are stored into the notebook's memory."
   ]
  },
  {
   "cell_type": "code",
   "execution_count": 310,
   "metadata": {},
   "outputs": [
    {
     "data": {
      "text/html": [
       "<div>\n",
       "<style scoped>\n",
       "    .dataframe tbody tr th:only-of-type {\n",
       "        vertical-align: middle;\n",
       "    }\n",
       "\n",
       "    .dataframe tbody tr th {\n",
       "        vertical-align: top;\n",
       "    }\n",
       "\n",
       "    .dataframe thead th {\n",
       "        text-align: right;\n",
       "    }\n",
       "</style>\n",
       "<table border=\"1\" class=\"dataframe\">\n",
       "  <thead>\n",
       "    <tr style=\"text-align: right;\">\n",
       "      <th></th>\n",
       "      <th>Município</th>\n",
       "      <th>Cód. IBGE</th>\n",
       "    </tr>\n",
       "  </thead>\n",
       "  <tbody>\n",
       "    <tr>\n",
       "      <th>0</th>\n",
       "      <td>Adamantina</td>\n",
       "      <td>3500105</td>\n",
       "    </tr>\n",
       "    <tr>\n",
       "      <th>1</th>\n",
       "      <td>Adolfo</td>\n",
       "      <td>3500204</td>\n",
       "    </tr>\n",
       "    <tr>\n",
       "      <th>2</th>\n",
       "      <td>Aguaí</td>\n",
       "      <td>3500303</td>\n",
       "    </tr>\n",
       "    <tr>\n",
       "      <th>3</th>\n",
       "      <td>Águas da Prata</td>\n",
       "      <td>3500402</td>\n",
       "    </tr>\n",
       "    <tr>\n",
       "      <th>4</th>\n",
       "      <td>Águas de Lindóia</td>\n",
       "      <td>3500501</td>\n",
       "    </tr>\n",
       "  </tbody>\n",
       "</table>\n",
       "</div>"
      ],
      "text/plain": [
       "          Município  Cód. IBGE\n",
       "0        Adamantina    3500105\n",
       "1            Adolfo    3500204\n",
       "2             Aguaí    3500303\n",
       "3    Águas da Prata    3500402\n",
       "4  Águas de Lindóia    3500501"
      ]
     },
     "execution_count": 310,
     "metadata": {},
     "output_type": "execute_result"
    }
   ],
   "source": [
    "municipios = pd.read_csv('municipio.csv')\n",
    "municipios = municipios.drop(['Unnamed: 0'],axis=1)\n",
    "municipios.head()"
   ]
  },
  {
   "cell_type": "code",
   "execution_count": 311,
   "metadata": {},
   "outputs": [
    {
     "data": {
      "text/html": [
       "<div>\n",
       "<style scoped>\n",
       "    .dataframe tbody tr th:only-of-type {\n",
       "        vertical-align: middle;\n",
       "    }\n",
       "\n",
       "    .dataframe tbody tr th {\n",
       "        vertical-align: top;\n",
       "    }\n",
       "\n",
       "    .dataframe thead th {\n",
       "        text-align: right;\n",
       "    }\n",
       "</style>\n",
       "<table border=\"1\" class=\"dataframe\">\n",
       "  <thead>\n",
       "    <tr style=\"text-align: right;\">\n",
       "      <th></th>\n",
       "      <th>Cód. IBGE</th>\n",
       "      <th>Grande região</th>\n",
       "      <th>Localidades</th>\n",
       "      <th>Mun_Total de casos</th>\n",
       "      <th>Mun_Total de óbitos</th>\n",
       "    </tr>\n",
       "  </thead>\n",
       "  <tbody>\n",
       "    <tr>\n",
       "      <th>0</th>\n",
       "      <td>3500105</td>\n",
       "      <td>Interior</td>\n",
       "      <td>Adamantina</td>\n",
       "      <td>58</td>\n",
       "      <td>5</td>\n",
       "    </tr>\n",
       "    <tr>\n",
       "      <th>1</th>\n",
       "      <td>3500204</td>\n",
       "      <td>Interior</td>\n",
       "      <td>Adolfo</td>\n",
       "      <td>24</td>\n",
       "      <td>2</td>\n",
       "    </tr>\n",
       "    <tr>\n",
       "      <th>2</th>\n",
       "      <td>3500303</td>\n",
       "      <td>Interior</td>\n",
       "      <td>Aguaí</td>\n",
       "      <td>79</td>\n",
       "      <td>4</td>\n",
       "    </tr>\n",
       "    <tr>\n",
       "      <th>3</th>\n",
       "      <td>3500402</td>\n",
       "      <td>Interior</td>\n",
       "      <td>Águas da Prata</td>\n",
       "      <td>2</td>\n",
       "      <td>1</td>\n",
       "    </tr>\n",
       "    <tr>\n",
       "      <th>4</th>\n",
       "      <td>3500501</td>\n",
       "      <td>Interior</td>\n",
       "      <td>Águas de Lindóia</td>\n",
       "      <td>43</td>\n",
       "      <td>4</td>\n",
       "    </tr>\n",
       "  </tbody>\n",
       "</table>\n",
       "</div>"
      ],
      "text/plain": [
       "   Cód. IBGE Grande região       Localidades  Mun_Total de casos  \\\n",
       "0    3500105      Interior        Adamantina                  58   \n",
       "1    3500204      Interior            Adolfo                  24   \n",
       "2    3500303      Interior             Aguaí                  79   \n",
       "3    3500402      Interior    Águas da Prata                   2   \n",
       "4    3500501      Interior  Águas de Lindóia                  43   \n",
       "\n",
       "   Mun_Total de óbitos  \n",
       "0                    5  \n",
       "1                    2  \n",
       "2                    4  \n",
       "3                    1  \n",
       "4                    4  "
      ]
     },
     "execution_count": 311,
     "metadata": {},
     "output_type": "execute_result"
    }
   ],
   "source": [
    "covid = pd.read_csv(\"DATA/covid.csv\", sep=\";\", encoding='latin-1')\n",
    "covid = covid.drop(['Unnamed: 5', 'Unnamed: 6'], axis=1)\n",
    "covid.rename(columns={'Cod_IBGE':'Cód. IBGE'}, \n",
    "                 inplace=True)\n",
    "covid.rename(columns={'Município':'Localidades'}, \n",
    "                 inplace=True)\n",
    "covid.head()"
   ]
  },
  {
   "cell_type": "markdown",
   "metadata": {},
   "source": [
    "## 2. Data Scaling"
   ]
  },
  {
   "cell_type": "markdown",
   "metadata": {},
   "source": [
    "As we have many variables with different ranges and meaning, scaler and/or normalization is necessary. Several scaler can be used. Indeed many estimators are designed with the assumption that each feature takes values close to zero or more importantly that all features vary on comparable scales. The Normalizer rescales the vector for each sample to have unit norm, independently of the distribution of the samples. "
   ]
  },
  {
   "cell_type": "code",
   "execution_count": 312,
   "metadata": {},
   "outputs": [],
   "source": [
    "#scaler = preprocessing.RobustScaler()\n",
    "#scaler = preprocessing.MinMaxScaler()\n",
    "#scaler = preprocessing.StandardScaler()\n",
    "\n",
    "\n",
    "df_scaled = Normalizer().fit_transform(df)\n",
    "#df_scaled =  PowerTransformer(method='yeo-johnson').fit_transform(df)\n",
    "names = df.columns\n",
    "df_scaled = pd.DataFrame(df_scaled, columns=names)"
   ]
  },
  {
   "cell_type": "code",
   "execution_count": 313,
   "metadata": {},
   "outputs": [],
   "source": [
    "ssd = []\n",
    "K = range(1,30)\n",
    "for k in K:\n",
    "    km = KMeans(n_clusters=k)\n",
    "    km = km.fit(df_scaled)\n",
    "    ssd.append(km.inertia_)"
   ]
  },
  {
   "cell_type": "markdown",
   "metadata": {},
   "source": [
    "In cluster analysis, the elbow method is a heuristic used in determining the number of clusters in a data set. The method consists of plotting the explained variation as a function of the number of clusters, and picking the elbow of the curve as the number of clusters to use. In this case, we have used 15 clusters."
   ]
  },
  {
   "cell_type": "code",
   "execution_count": 314,
   "metadata": {},
   "outputs": [
    {
     "data": {
      "text/plain": [
       "Text(0.5,1,'Elbow Method For Optimal k')"
      ]
     },
     "execution_count": 314,
     "metadata": {},
     "output_type": "execute_result"
    },
    {
     "data": {
      "image/png": "[encoded data removed]",
      "text/plain": [
       "<Figure size 720x432 with 1 Axes>"
      ]
     },
     "metadata": {
      "needs_background": "light"
     },
     "output_type": "display_data"
    }
   ],
   "source": [
    "import seaborn as sns\n",
    "import matplotlib.pyplot as plt\n",
    "plt.figure(figsize=(10,6))\n",
    "plt.plot(K, ssd, 'bx-')\n",
    "plt.xlabel('k')\n",
    "plt.ylabel('ssd')\n",
    "plt.title('Elbow Method For Optimal k')\n",
    "#plt.show()"
   ]
  },
  {
   "cell_type": "code",
   "execution_count": 315,
   "metadata": {},
   "outputs": [],
   "source": [
    "kmeans = KMeans(n_clusters=15)\n",
    "model = kmeans.fit(df_scaled)"
   ]
  },
  {
   "cell_type": "code",
   "execution_count": 316,
   "metadata": {},
   "outputs": [],
   "source": [
    "pred = model.labels_\n",
    "df['cluster'] = pred"
   ]
  },
  {
   "cell_type": "code",
   "execution_count": 317,
   "metadata": {},
   "outputs": [],
   "source": [
    "from sklearn.decomposition import PCA\n",
    "\n",
    "pca = PCA(n_components=2)\n",
    "pca_model = pca.fit_transform(df_scaled)\n",
    "data_transform = pd.DataFrame(data = pca_model, columns = ['PCA1', 'PCA2'])\n",
    "data_transform['cluster'] = pred"
   ]
  },
  {
   "cell_type": "code",
   "execution_count": 318,
   "metadata": {},
   "outputs": [
    {
     "data": {
      "image/png": "[encoded data removed]",
      "text/plain": [
       "<Figure size 576x576 with 1 Axes>"
      ]
     },
     "metadata": {
      "needs_background": "light"
     },
     "output_type": "display_data"
    }
   ],
   "source": [
    "import seaborn as sns\n",
    "import matplotlib.pyplot as plt\n",
    "plt.figure(figsize=(8,8))\n",
    "g = sns.scatterplot(data=data_transform, x='PCA1', y='PCA2',  hue='cluster')\n",
    "title = plt.title('Countries Clusters with PCA')"
   ]
  },
  {
   "cell_type": "code",
   "execution_count": 319,
   "metadata": {},
   "outputs": [],
   "source": [
    "df_total = pd.concat([municipios, df], axis=1)"
   ]
  },
  {
   "cell_type": "code",
   "execution_count": 320,
   "metadata": {},
   "outputs": [
    {
     "data": {
      "text/plain": [
       "<matplotlib.axes._subplots.AxesSubplot at 0x7f7c614e3438>"
      ]
     },
     "execution_count": 320,
     "metadata": {},
     "output_type": "execute_result"
    },
    {
     "data": {
      "image/png": "[encoded data removed]",
      "text/plain": [
       "<Figure size 432x288 with 1 Axes>"
      ]
     },
     "metadata": {
      "needs_background": "light"
     },
     "output_type": "display_data"
    }
   ],
   "source": [
    "sns.countplot(df_total['cluster'])"
   ]
  },
  {
   "cell_type": "code",
   "execution_count": 321,
   "metadata": {},
   "outputs": [],
   "source": [
    "df_total = df_total.rename(columns={'Município': 'Localidades'})\n",
    "df_total = df_total.merge(covid,on='Localidades', how='left' )"
   ]
  },
  {
   "cell_type": "markdown",
   "metadata": {},
   "source": [
    "Saving the dataframe for maping tools."
   ]
  },
  {
   "cell_type": "code",
   "execution_count": 322,
   "metadata": {},
   "outputs": [],
   "source": [
    "df_total.to_csv('clusterizacao_para_mapa.csv')"
   ]
  },
  {
   "cell_type": "markdown",
   "metadata": {},
   "source": [
    "### 3. Visualization"
   ]
  },
  {
   "cell_type": "code",
   "execution_count": 323,
   "metadata": {},
   "outputs": [],
   "source": [
    "df_ead = df_total"
   ]
  },
  {
   "cell_type": "code",
   "execution_count": 324,
   "metadata": {},
   "outputs": [],
   "source": [
    "df_ead = df_ead.drop(['Cód. IBGE_x','Cód. IBGE_y', 'Grande região',\n",
    "       'Mun_Total de casos', 'Mun_Total de óbitos'],axis=1)"
   ]
  },
  {
   "cell_type": "markdown",
   "metadata": {},
   "source": [
    "> Those are the variables that we have used in k-means. To choose which you would like to plot, go to the following cell and type the name of the variable. In this example case, we have chosen 'Índice de Desenvolvimento Humano Municipal - IDHM'. After that, you can run the last cell. A new page is going to pop up."
   ]
  },
  {
   "cell_type": "code",
   "execution_count": 327,
   "metadata": {},
   "outputs": [
    {
     "data": {
      "text/plain": [
       "Index(['Localidades',\n",
       "       'Abastecimento de Água - Nível de Atendimento - Censo Demográfico (Em %)',\n",
       "       'Coleta de Lixo - Nível de Atendimento - Censo Demográfico (Em %)',\n",
       "       'Esgoto Sanitário - Nível de Atendimento - Censo Demográfico (Em %)',\n",
       "       'Consumo de Energia Elétrica - Industrial (Em MWh)',\n",
       "       'Consumo de Energia Elétrica - Rural (Em MWh)',\n",
       "       'Participação dos Empregos Formais da Agricultura. Pecuária. Produção Florestal. Pesca e Aquicultura no Total de Empregos Formais (Em %)',\n",
       "       'Participação dos Empregos Formais da Indústria no Total de Empregos Formais (Em %)',\n",
       "       'Participação dos Empregos Formais da Construção no Total de Empregos Formais (Em %)',\n",
       "       'Participação dos Empregos Formais do Comércio Atacadista e Varejista e do Comércio e Reparação de Veículos Automotores e Motocicletas no Total de Empregos Formais (Em %)',\n",
       "       'Número de Habitantes por Total de Veículos ',\n",
       "       'Número de Habitantes por Automóvel ',\n",
       "       'Índice de Desenvolvimento Humano Municipal - IDHM ',\n",
       "       'Leitos de Internação (Coeficiente por mil habitantes)',\n",
       "       'Taxa de Natalidade (Por mil habitantes)',\n",
       "       'Índice de Envelhecimento (Em %)',\n",
       "       'Taxa de Mortalidade Geral (por local de residência) (Por mil habitantes)',\n",
       "       'Taxa de Mortalidade da População de 15 a 34 Anos (Por cem mil habitantes nessa faixa etária)',\n",
       "       'Taxa de Mortalidade da População de 60 Anos e Mais (Por cem mil habitantes nessa faixa etária)',\n",
       "       'PIB per Capita (Em reais correntes)',\n",
       "       'Participação no PIB do Estado (Em %)', 'Razão de Sexos ',\n",
       "       'População Urbana ', 'População Rural ', 'Grau de Urbanização (Em %)',\n",
       "       'Auxiliares de Enfermagem Registrados no COREN/SP (Coeficiente por mil habitantes)',\n",
       "       'Enfermeiros Registrados no COREN/SP (Coeficiente por mil habitantes)',\n",
       "       'Médicos Registrados no CRM/SP (Coeficiente por mil habitantes)',\n",
       "       'Técnicos de Enfermagem Registrados no COREN/SP (Coeficiente por mil habitantes)',\n",
       "       'Renda per Capita - Censo Demográfico (Em reais correntes)',\n",
       "       'densidade', 'cluster'],\n",
       "      dtype='object')"
      ]
     },
     "execution_count": 327,
     "metadata": {},
     "output_type": "execute_result"
    }
   ],
   "source": [
    "df_ead.columns"
   ]
  },
  {
   "cell_type": "code",
   "execution_count": 328,
   "metadata": {},
   "outputs": [],
   "source": [
    "col = 'Índice de Desenvolvimento Humano Municipal - IDHM '"
   ]
  },
  {
   "cell_type": "code",
   "execution_count": 329,
   "metadata": {},
   "outputs": [
    {
     "data": {
      "text/plain": [
       "'temp-plot.html'"
      ]
     },
     "execution_count": 329,
     "metadata": {},
     "output_type": "execute_result"
    }
   ],
   "source": [
    "#grid = sns.pairplot(df_ead5, hue=\"cluster\", diag_kws={'bw': 0.4})\n",
    "#dfl = df_ead4.set_index('cluster').stack().reset_index().rename(columns={'level_1': 'groups', 0: 'values'})\n",
    "import plotly.express as px\n",
    "from plotly.offline import plot\n",
    "\n",
    "fig = px.box(df_ead, x=\"cluster\", y=col)\n",
    "plot(fig)"
   ]
  },
  {
   "cell_type": "code",
   "execution_count": null,
   "metadata": {},
   "outputs": [],
   "source": []
  }
 ],
 "metadata": {
  "kernelspec": {
   "display_name": "Python 3",
   "language": "python",
   "name": "python3"
  },
  "language_info": {
   "codemirror_mode": {
    "name": "ipython",
    "version": 3
   },
   "file_extension": ".py",
   "mimetype": "text/x-python",
   "name": "python",
   "nbconvert_exporter": "python",
   "pygments_lexer": "ipython3",
   "version": "3.6.9"
  }
 },
 "nbformat": 4,
 "nbformat_minor": 4
}
